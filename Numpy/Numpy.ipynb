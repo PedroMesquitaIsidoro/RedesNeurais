{
  "nbformat": 4,
  "nbformat_minor": 0,
  "metadata": {
    "colab": {
      "provenance": [],
      "authorship_tag": "ABX9TyPQNDxRGvJLedvjvw28kKft",
      "include_colab_link": true
    },
    "kernelspec": {
      "name": "python3",
      "display_name": "Python 3"
    },
    "language_info": {
      "name": "python"
    }
  },
  "cells": [
    {
      "cell_type": "markdown",
      "metadata": {
        "id": "view-in-github",
        "colab_type": "text"
      },
      "source": [
        "<a href=\"https://colab.research.google.com/github/PedroMesquitaIsidoro/RedesNeurais/blob/main/Numpy/Numpy.ipynb\" target=\"_parent\"><img src=\"https://colab.research.google.com/assets/colab-badge.svg\" alt=\"Open In Colab\"/></a>"
      ]
    },
    {
      "cell_type": "code",
      "execution_count": 1,
      "metadata": {
        "id": "XAJAFeENvs0a"
      },
      "outputs": [],
      "source": [
        "# o objetivo desse notebook eh aprender o basico de numpy\n",
        "import numpy as np"
      ]
    },
    {
      "cell_type": "markdown",
      "source": [
        "# **Numpy Array**"
      ],
      "metadata": {
        "id": "CGSza-gRwCfE"
      }
    },
    {
      "cell_type": "code",
      "source": [
        "#Como criar um array NumPy vazio e completo?\n",
        "\n",
        "#Vazio\n",
        "array_vazio = np.empty((3,3))\n",
        "print(array_vazio)"
      ],
      "metadata": {
        "colab": {
          "base_uri": "https://localhost:8080/"
        },
        "id": "ClmmLuiiv1Lq",
        "outputId": "bac09a74-07a5-4b5f-bbb7-5e7cfc1003e8"
      },
      "execution_count": 15,
      "outputs": [
        {
          "output_type": "stream",
          "name": "stdout",
          "text": [
            "[[4.67983166e-310 0.00000000e+000 0.00000000e+000]\n",
            " [0.00000000e+000 0.00000000e+000 0.00000000e+000]\n",
            " [0.00000000e+000 0.00000000e+000 0.00000000e+000]]\n"
          ]
        }
      ]
    },
    {
      "cell_type": "code",
      "source": [
        "#completo\n",
        "array_completo = np.full((3,3), 17)\n",
        "print(array_completo)"
      ],
      "metadata": {
        "colab": {
          "base_uri": "https://localhost:8080/"
        },
        "id": "nxCjzHEuxiaB",
        "outputId": "6eaa0a6d-d1f9-4cd3-c0d7-3cc51a95f560"
      },
      "execution_count": 16,
      "outputs": [
        {
          "output_type": "stream",
          "name": "stdout",
          "text": [
            "[[17 17 17]\n",
            " [17 17 17]\n",
            " [17 17 17]]\n"
          ]
        }
      ]
    },
    {
      "cell_type": "code",
      "source": [
        "#Crie uma matriz Numpy preenchida com todos os zeros\n",
        "matriz_zero = np.zeros((3,3))\n",
        "print(matriz_zero)"
      ],
      "metadata": {
        "colab": {
          "base_uri": "https://localhost:8080/"
        },
        "id": "Mzt7NAkEyDTN",
        "outputId": "e75b5e95-0b69-4bd4-922f-6a209969b5f5"
      },
      "execution_count": 18,
      "outputs": [
        {
          "output_type": "stream",
          "name": "stdout",
          "text": [
            "[[0. 0. 0.]\n",
            " [0. 0. 0.]\n",
            " [0. 0. 0.]]\n"
          ]
        }
      ]
    },
    {
      "cell_type": "code",
      "source": [
        "#Verifique se um array Numpy contém uma linha especificada\n",
        "array_exemplo = np.array([[1, 2, 3],\n",
        "                          [4, 5, 6],\n",
        "                          [7, 8, 9]])\n",
        "\n",
        "linha_procurada = np.array([4, 5, 6])\n",
        "\n",
        "linha_esta_no_array = np.any(np.all(array_exemplo == linha_procurada, axis=1))\n",
        "\n",
        "if linha_esta_no_array:\n",
        "    print(\"A linha está no array.\")\n",
        "else:\n",
        "    print(\"A linha não está no array.\")\n",
        "\n"
      ],
      "metadata": {
        "colab": {
          "base_uri": "https://localhost:8080/"
        },
        "id": "HMf_liL_ydyX",
        "outputId": "395e191d-439a-40ab-85d8-01b8bf6eeab4"
      },
      "execution_count": 23,
      "outputs": [
        {
          "output_type": "stream",
          "name": "stdout",
          "text": [
            "A linha está no array.\n"
          ]
        }
      ]
    }
  ]
}